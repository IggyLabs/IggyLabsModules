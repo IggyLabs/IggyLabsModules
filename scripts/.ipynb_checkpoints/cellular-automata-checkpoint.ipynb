{
 "cells": [
  {
   "cell_type": "markdown",
   "metadata": {},
   "source": [
    "Create 256 cellular automata displays to fit in a widget 128x128 px with transparent background and objects colored `RGBA(e0f7faff)`"
   ]
  },
  {
   "cell_type": "markdown",
   "metadata": {},
   "source": [
    "[The Nature of Code](https://natureofcode.com/book/chapter-7-cellular-automata/)"
   ]
  },
  {
   "cell_type": "markdown",
   "metadata": {},
   "source": [
    "---"
   ]
  },
  {
   "cell_type": "code",
   "execution_count": 1,
   "metadata": {},
   "outputs": [],
   "source": [
    "# https://ipython-books.github.io/122-simulating-an-elementary-cellular-automaton/\n",
    "\n",
    "import numpy as np\n",
    "import drawSvg as draw\n",
    "fill_color = \"#e0f7fa\"\n",
    "\n",
    "u = np.array([[4], [2], [1]])"
   ]
  },
  {
   "cell_type": "code",
   "execution_count": 2,
   "metadata": {},
   "outputs": [],
   "source": [
    "def step(x, rule_b):\n",
    "    \"\"\"Compute a single step of an elementary cellular\n",
    "    automaton.\"\"\"\n",
    "    \n",
    "    # The columns contains the L, C, R values\n",
    "    # of all cells.\n",
    "    y = np.vstack((np.roll(x, 1), x,\n",
    "                   np.roll(x, -1))).astype(np.int8)\n",
    "    \n",
    "    # We get the LCR pattern numbers between 0 and 7.\n",
    "    z = np.sum(y * u, axis=0).astype(np.int8)\n",
    "    \n",
    "    # We get the patterns given by the rule.\n",
    "    return rule_b[7 - z]"
   ]
  },
  {
   "cell_type": "code",
   "execution_count": 3,
   "metadata": {},
   "outputs": [],
   "source": [
    "def generate(rule, size=128, steps=128):\n",
    "    \"\"\"Simulate an elementary cellular automaton given\n",
    "    its rule (number between 0 and 255).\"\"\"\n",
    "    \n",
    "    # Compute the binary representation of the rule.\n",
    "    rule_b = np.array(\n",
    "        [int(_) for _ in np.binary_repr(rule, 8)],\n",
    "        dtype=np.int8)\n",
    "    x = np.zeros((steps, size), dtype=np.int8)\n",
    "    \n",
    "    # Random initial state.\n",
    "    x[0, :] = np.random.rand(size) < .5\n",
    "    \n",
    "    # Apply the step function iteratively.\n",
    "    for i in range(steps - 1):\n",
    "        x[i + 1, :] = step(x[i, :], rule_b)\n",
    "    return x"
   ]
  },
  {
   "cell_type": "code",
   "execution_count": 4,
   "metadata": {},
   "outputs": [
    {
     "data": {
      "image/png": "[encoded data removed]",
      "text/plain": [
       "<drawSvg.raster.Raster at 0x7f27a5fc1e90>"
      ]
     },
     "execution_count": 4,
     "metadata": {},
     "output_type": "execute_result"
    }
   ],
   "source": [
    "num_pix = 128\n",
    "d = draw.Drawing(num_pix, num_pix)\n",
    "d.setPixelScale(3)\n",
    "\n",
    "automata_array = generate(30)\n",
    "for i in range(num_pix):\n",
    "    # Add a row\n",
    "    for j in range(num_pix):\n",
    "        # Add left to right\n",
    "        if automata_array[i][j] == 1:\n",
    "            # Flip on horizontal axis because origin is in the bottom left\n",
    "            d.draw(draw.Rectangle(j, 128 - i, 1, 1, fill=fill_color))\n",
    "\n",
    "d.rasterize()"
   ]
  },
  {
   "cell_type": "code",
   "execution_count": 7,
   "metadata": {},
   "outputs": [],
   "source": [
    "def saveSvg(rule, size= 128):\n",
    "    d = draw.Drawing(size, size, draw_inline=False)\n",
    "    automata_array = generate(rule)\n",
    "    for i in range(num_pix):\n",
    "        # Add a row\n",
    "        for j in range(num_pix):\n",
    "            # Add left to right\n",
    "            if automata_array[i][j] == 1:\n",
    "                # Flip on horizontal axis because origin is in the bottom left\n",
    "                d.draw(draw.Rectangle(j, 128 - i, 1, 1, fill=fill_color))\n",
    "    \n",
    "    d.saveSvg(\"rule-\" + str(rule) + \"-ea.svg\")"
   ]
  },
  {
   "cell_type": "code",
   "execution_count": 8,
   "metadata": {},
   "outputs": [],
   "source": [
    "for i in range(256):\n",
    "    saveSvg(i)"
   ]
  }
 ],
 "metadata": {
  "kernelspec": {
   "display_name": "Python 3",
   "language": "python",
   "name": "python3"
  },
  "language_info": {
   "codemirror_mode": {
    "name": "ipython",
    "version": 3
   },
   "file_extension": ".py",
   "mimetype": "text/x-python",
   "name": "python",
   "nbconvert_exporter": "python",
   "pygments_lexer": "ipython3",
   "version": "3.7.6"
  }
 },
 "nbformat": 4,
 "nbformat_minor": 4
}
